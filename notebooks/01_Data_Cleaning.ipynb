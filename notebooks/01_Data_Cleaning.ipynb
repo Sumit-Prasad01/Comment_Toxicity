{
 "cells": [
  {
   "cell_type": "markdown",
   "id": "3a5860ad",
   "metadata": {},
   "source": [
    "#  Data Cleaning for train & test"
   ]
  },
  {
   "cell_type": "markdown",
   "id": "864f590c",
   "metadata": {},
   "source": [
    "## Import Libraries"
   ]
  },
  {
   "cell_type": "code",
   "execution_count": 1,
   "id": "185af482",
   "metadata": {},
   "outputs": [],
   "source": [
    "import pandas as pd\n",
    "import string\n",
    "import re "
   ]
  },
  {
   "cell_type": "markdown",
   "id": "08c264b2",
   "metadata": {},
   "source": [
    "## Load Dataset"
   ]
  },
  {
   "cell_type": "code",
   "execution_count": 2,
   "id": "31ae79a4",
   "metadata": {},
   "outputs": [],
   "source": [
    "train_df = pd.read_csv(\"../data/raw/train.csv\")\n",
    "test_df  = pd.read_csv(\"../data/raw/test.csv\")"
   ]
  },
  {
   "cell_type": "markdown",
   "id": "b1efac79",
   "metadata": {},
   "source": [
    "## Cleaning function"
   ]
  },
  {
   "cell_type": "code",
   "execution_count": 3,
   "id": "fcae9904",
   "metadata": {},
   "outputs": [],
   "source": [
    "\n",
    "def clean_text(text):\n",
    "    text = str(text).lower()                                      # lowercase\n",
    "    text = re.sub(r\"http\\S+|www\\S+|https\\S+\", '', text)           # remove urls\n",
    "    text = re.sub(r\"<.*?>\", '', text)                             # remove html tags\n",
    "    text = re.sub(r\"\\n\", \" \", text)                               # remove newlines\n",
    "    text = re.sub(r\"\\d+\", '', text)                               # remove numbers\n",
    "    text = text.translate(str.maketrans('', '', string.punctuation))  # remove punctuation\n",
    "    text = re.sub(r\"\\s+\", \" \", text).strip()                      # remove extra spaces\n",
    "    return text"
   ]
  },
  {
   "cell_type": "markdown",
   "id": "72a64ebb",
   "metadata": {},
   "source": [
    "## Apply cleaning"
   ]
  },
  {
   "cell_type": "code",
   "execution_count": 4,
   "id": "85e2d8e7",
   "metadata": {},
   "outputs": [],
   "source": [
    "train_df[\"clean_comment\"] = train_df[\"comment_text\"].apply(clean_text)\n",
    "test_df[\"clean_comment\"]  = test_df[\"comment_text\"].apply(clean_text)"
   ]
  },
  {
   "cell_type": "markdown",
   "id": "a8892eeb",
   "metadata": {},
   "source": [
    "## Drop Id Column"
   ]
  },
  {
   "cell_type": "code",
   "execution_count": 5,
   "id": "93ab9119",
   "metadata": {},
   "outputs": [],
   "source": [
    "train_df = train_df.drop(columns=[\"id\"])\n",
    "test_df = test_df.drop(columns=[\"id\"])"
   ]
  },
  {
   "cell_type": "markdown",
   "id": "472ff663",
   "metadata": {},
   "source": [
    "## Save Datasets"
   ]
  },
  {
   "cell_type": "code",
   "execution_count": 6,
   "id": "c944b776",
   "metadata": {},
   "outputs": [],
   "source": [
    "train_df.to_csv(\"../data/processed/cleaned_train_data.csv\", index = False)\n",
    "test_df.to_csv(\"../data/processed/cleaned_test_data.csv\", index = False)"
   ]
  },
  {
   "cell_type": "markdown",
   "id": "337ca381",
   "metadata": {},
   "source": [
    "# For BERT / Transformer models\n",
    "\n",
    "- We don’t need heavy cleaning.\n",
    "\n",
    "- BERT tokenizer already handles casing, punctuation, and subword tokenization.\n",
    "\n",
    "- Usually, you only do:\n",
    "\n",
    "    - Lowercasing (if not using bert-base-uncased)\n",
    "\n",
    "    - Remove URLs, HTML tags, and line breaks\n",
    "\n",
    "    - Maybe strip extra spaces."
   ]
  }
 ],
 "metadata": {
  "kernelspec": {
   "display_name": "Python 3",
   "language": "python",
   "name": "python3"
  },
  "language_info": {
   "codemirror_mode": {
    "name": "ipython",
    "version": 3
   },
   "file_extension": ".py",
   "mimetype": "text/x-python",
   "name": "python",
   "nbconvert_exporter": "python",
   "pygments_lexer": "ipython3",
   "version": "3.12.11"
  }
 },
 "nbformat": 4,
 "nbformat_minor": 5
}
